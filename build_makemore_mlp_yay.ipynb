{
 "cells": [
  {
   "cell_type": "markdown",
   "id": "94914d67-695a-4df3-bc9d-f1ab03c3c4b7",
   "metadata": {},
   "source": [
    "# Makemore - MLP Version"
   ]
  },
  {
   "cell_type": "code",
   "execution_count": 739,
   "id": "d2df9640-1ea2-4fcb-8823-3483b08e0e03",
   "metadata": {},
   "outputs": [],
   "source": [
    "import torch \n",
    "import torch.nn.functional as F\n",
    "import matplotlib.pyplot as plt\n",
    "%matplotlib inline"
   ]
  },
  {
   "cell_type": "code",
   "execution_count": 740,
   "id": "a8a1164b-39be-4cbf-94eb-e64302cb55d0",
   "metadata": {},
   "outputs": [
    {
     "data": {
      "text/plain": [
       "['emma', 'olivia', 'ava', 'isabella', 'sophia', 'charlotte', 'mia', 'amelia']"
      ]
     },
     "execution_count": 740,
     "metadata": {},
     "output_type": "execute_result"
    }
   ],
   "source": [
    "# read in all the words\n",
    "words = open('names.txt', 'r').read().splitlines()\n",
    "words[:8]"
   ]
  },
  {
   "cell_type": "code",
   "execution_count": 741,
   "id": "3f3c6d7f-f103-44c0-9b47-742f05bb5c3b",
   "metadata": {},
   "outputs": [
    {
     "data": {
      "text/plain": [
       "32033"
      ]
     },
     "execution_count": 741,
     "metadata": {},
     "output_type": "execute_result"
    }
   ],
   "source": [
    "len(words)"
   ]
  },
  {
   "cell_type": "code",
   "execution_count": 742,
   "id": "2e10bb27-7d9c-4264-9d3b-3989e642c63d",
   "metadata": {},
   "outputs": [
    {
     "name": "stdout",
     "output_type": "stream",
     "text": [
      "{1: 'a', 2: 'b', 3: 'c', 4: 'd', 5: 'e', 6: 'f', 7: 'g', 8: 'h', 9: 'i', 10: 'j', 11: 'k', 12: 'l', 13: 'm', 14: 'n', 15: 'o', 16: 'p', 17: 'q', 18: 'r', 19: 's', 20: 't', 21: 'u', 22: 'v', 23: 'w', 24: 'x', 25: 'y', 26: 'z', 0: '.'}\n"
     ]
    }
   ],
   "source": [
    "# build the vocabulary of characters and mappings to/from integers\n",
    "chars = sorted(list(set(''.join(words))))\n",
    "stoi = {s:i+1 for i,s in enumerate(chars)}\n",
    "stoi['.'] = 0\n",
    "itos = {i:s for s,i in stoi.items()}\n",
    "print(itos)"
   ]
  },
  {
   "cell_type": "code",
   "execution_count": 743,
   "id": "3bd10c25-79b0-4a72-ba91-1b311d942ab9",
   "metadata": {},
   "outputs": [
    {
     "name": "stdout",
     "output_type": "stream",
     "text": [
      "emma\n",
      "..... ---> e\n",
      "....e ---> m\n",
      "...em ---> m\n",
      "..emm ---> a\n",
      ".emma ---> .\n",
      "olivia\n",
      "..... ---> o\n",
      "....o ---> l\n",
      "...ol ---> i\n",
      "..oli ---> v\n",
      ".oliv ---> i\n",
      "olivi ---> a\n",
      "livia ---> .\n",
      "ava\n",
      "..... ---> a\n",
      "....a ---> v\n",
      "...av ---> a\n",
      "..ava ---> .\n",
      "isabella\n",
      "..... ---> i\n",
      "....i ---> s\n",
      "...is ---> a\n",
      "..isa ---> b\n",
      ".isab ---> e\n",
      "isabe ---> l\n",
      "sabel ---> l\n",
      "abell ---> a\n",
      "bella ---> .\n",
      "sophia\n",
      "..... ---> s\n",
      "....s ---> o\n",
      "...so ---> p\n",
      "..sop ---> h\n",
      ".soph ---> i\n",
      "sophi ---> a\n",
      "ophia ---> .\n"
     ]
    }
   ],
   "source": [
    "# build the dataset\n",
    "block_size = 5 # context length: how many characters do we take to predict the next\n",
    "X, Y = [], []\n",
    "for w in words[:5]:\n",
    "    \n",
    "    print(w)\n",
    "    context = [0] * block_size \n",
    "    for ch in w + '.': # iterates over all characters\n",
    "        ix = stoi[ch] # get character in the sequence\n",
    "        X.append(context) # stores the value of this context\n",
    "        Y.append(ix) # build out the array y of this context\n",
    "        print(''.join(itos[i] for i in context), '--->', itos[ix])\n",
    "        context = context[1:] + [ix]  # crop and append\n",
    "\n",
    "X = torch.tensor(X)\n",
    "Y = torch.tensor(Y)"
   ]
  },
  {
   "cell_type": "code",
   "execution_count": 744,
   "id": "8e39cf09-78cf-42cd-9f6e-5031738a4964",
   "metadata": {},
   "outputs": [
    {
     "data": {
      "text/plain": [
       "(torch.Size([32, 5]), torch.Size([32]))"
      ]
     },
     "execution_count": 744,
     "metadata": {},
     "output_type": "execute_result"
    }
   ],
   "source": [
    "X.shape, Y.shape"
   ]
  },
  {
   "cell_type": "code",
   "execution_count": 745,
   "id": "34b1f9b3-4239-43da-89ff-9f7379369b3a",
   "metadata": {},
   "outputs": [],
   "source": [
    "g = torch.Generator().manual_seed(2147583647)\n",
    "C = torch.rand((27, 2), generator=g) # look up table with 27 rows and 2 columns (each one of the 27 characters will have 2 embeddings)\n",
    "# hidden layer\n",
    "W1 = torch.randn((10, 100), generator=g) # we use 10 as there 5 two-dimensional embeddings, 100 is a random number of neurons\n",
    "b1 = torch.randn(100, generator = g)\n",
    "# output layer\n",
    "W2 = torch.randn((100, 27), generator=g)\n",
    "b2 = torch.randn(27, generator=g)\n",
    "parameter = [C, W1, b1, W2, b2]"
   ]
  },
  {
   "cell_type": "code",
   "execution_count": 746,
   "id": "08e7949b-a571-4319-8e5f-a2fb8afd9fa9",
   "metadata": {},
   "outputs": [
    {
     "data": {
      "text/plain": [
       "3881"
      ]
     },
     "execution_count": 746,
     "metadata": {},
     "output_type": "execute_result"
    }
   ],
   "source": [
    "sum(p.nelement() for p in parameter) # num of parameter in total"
   ]
  },
  {
   "cell_type": "code",
   "execution_count": 747,
   "id": "05df40a7-65de-4b42-9ae6-f66f1e651b49",
   "metadata": {},
   "outputs": [],
   "source": [
    "for p in parameter:\n",
    "    p.requires_grad = True"
   ]
  },
  {
   "cell_type": "code",
   "execution_count": 748,
   "id": "1ae2fcaf-d373-45a3-84fd-3f034d7e101d",
   "metadata": {},
   "outputs": [
    {
     "name": "stdout",
     "output_type": "stream",
     "text": [
      "0.48641979694366455\n"
     ]
    }
   ],
   "source": [
    "for _ in range(100):\n",
    "    emb = C[X] # embedding X with C\n",
    "    h = torch.tanh(emb.view(-1, 10) @ W1 + b1) # activation unit\n",
    "    logits = h @ W2 + b2\n",
    "    # counts = logits.exp() \n",
    "    # prob = counts / counts.sum(1, keepdims=True)\n",
    "    # loss = -prob[torch.arange(32), Y].log().mean()\n",
    "    loss = F.cross_entropy(logits, Y) # this gives loss the same way the previous 3 lines do\n",
    "    \n",
    "    # backward pass\n",
    "    for p in parameter:\n",
    "        p.grad = None\n",
    "    loss.backward()\n",
    "    # update\n",
    "    for p in parameter:\n",
    "        p.data += -0.1 * p.grad\n",
    "\n",
    "print(loss.item())"
   ]
  },
  {
   "cell_type": "markdown",
   "id": "1fa33621-b8f8-4917-8c20-9967e055ddac",
   "metadata": {},
   "source": [
    "This was very easy to achieve as we only were running the model on a few examples more specifically 32 examples based off 5 words only, meaning that we are overfitting this model.\n",
    "\n",
    "## Running the Whole Model"
   ]
  },
  {
   "cell_type": "code",
   "execution_count": 749,
   "id": "7f2341df-bbc8-4860-b024-efde761b1a3d",
   "metadata": {},
   "outputs": [
    {
     "name": "stdout",
     "output_type": "stream",
     "text": [
      "torch.Size([182625, 3]) torch.Size([182625])\n",
      "torch.Size([22655, 3]) torch.Size([22655])\n",
      "torch.Size([22866, 3]) torch.Size([22866])\n"
     ]
    }
   ],
   "source": [
    "# build the dataset\n",
    "\n",
    "def build_dataset(words):\n",
    "    block_size = 3 # context length: how many characters do we take to predict the next\n",
    "    X, Y = [], []\n",
    "    for w in words:\n",
    "        \n",
    "        # print(w)\n",
    "        context = [0] * block_size \n",
    "        for ch in w + '.': # iterates over all characters\n",
    "            ix = stoi[ch] # get character in the sequence\n",
    "            X.append(context) # stores the value of this context\n",
    "            Y.append(ix) # build out the array y of this context\n",
    "            # print(''.join(itos[i] for i in context), '--->', itos[ix])\n",
    "            context = context[1:] + [ix]  # crop and append\n",
    "    \n",
    "    X = torch.tensor(X)\n",
    "    Y = torch.tensor(Y)\n",
    "    print(X.shape, Y.shape)\n",
    "    return X, Y\n",
    "\n",
    "import random\n",
    "random.seed(42)\n",
    "random.shuffle(words) # shuffle the words up\n",
    "n1 = int(0.8*len(words)) \n",
    "n2 = int(0.9*len(words))\n",
    "\n",
    "Xtr, Ytr = build_dataset(words[:n1]) # train\n",
    "Xdev, Ydev = build_dataset(words[n1:n2]) \n",
    "Xte, Yte = build_dataset(words[n2:]) # test set\n"
   ]
  },
  {
   "cell_type": "code",
   "execution_count": 750,
   "id": "2aa13fdf-381e-45dc-bb94-78d559e4d519",
   "metadata": {},
   "outputs": [
    {
     "data": {
      "text/plain": [
       "(torch.Size([182625, 3]), torch.Size([182625]))"
      ]
     },
     "execution_count": 750,
     "metadata": {},
     "output_type": "execute_result"
    }
   ],
   "source": [
    "Xtr.shape, Ytr.shape"
   ]
  },
  {
   "cell_type": "code",
   "execution_count": 751,
   "id": "daf8b17e-145d-49d5-83a4-3cecd5525e36",
   "metadata": {},
   "outputs": [],
   "source": [
    "g = torch.Generator().manual_seed(2147583647)\n",
    "C = torch.rand((27, 10), generator=g) # look up table with 27 rows and 10 columns (each one of the 27 characters will have 10 embeddings)\n",
    "# hidden layer\n",
    "W1 = torch.randn((30, 200), generator=g) # we use 10 as there 5 two-dimensional embeddings, 100 is a random number of neurons\n",
    "b1 = torch.randn(200, generator = g)\n",
    "# output layer\n",
    "W2 = torch.randn((200, 27), generator=g)\n",
    "b2 = torch.randn(27, generator=g)\n",
    "parameter = [C, W1, b1, W2, b2]"
   ]
  },
  {
   "cell_type": "code",
   "execution_count": 752,
   "id": "88996688-8668-4bcc-89ef-1b6191da84b1",
   "metadata": {},
   "outputs": [
    {
     "data": {
      "text/plain": [
       "11897"
      ]
     },
     "execution_count": 752,
     "metadata": {},
     "output_type": "execute_result"
    }
   ],
   "source": [
    "sum(p.nelement() for p in parameter) # num of parameter in total"
   ]
  },
  {
   "cell_type": "code",
   "execution_count": 753,
   "id": "269505cc-7175-4a6b-89ee-9c5dd010d2a0",
   "metadata": {},
   "outputs": [],
   "source": [
    "for p in parameter:\n",
    "    p.requires_grad = True"
   ]
  },
  {
   "cell_type": "code",
   "execution_count": 754,
   "id": "52ce383a-23b2-419f-bd60-5dec76b5fe01",
   "metadata": {},
   "outputs": [],
   "source": [
    "# optimizes the learning rate\n",
    "lre = torch.linspace(-3, 0, 1000) # learning rate exponent\n",
    "lrs = 10**lre # spaces it out linearly"
   ]
  },
  {
   "cell_type": "code",
   "execution_count": 755,
   "id": "63419409-d703-4a7f-8059-f2ef3ccb08eb",
   "metadata": {},
   "outputs": [],
   "source": [
    "lri = [] # tracks learning rate\n",
    "lossi = [] # tracks losses\n",
    "stepi = []"
   ]
  },
  {
   "cell_type": "code",
   "execution_count": 764,
   "id": "649f356e-bde3-454f-b2dc-f9393f46a6e4",
   "metadata": {
    "scrolled": true
   },
   "outputs": [],
   "source": [
    "\n",
    "for i in range(200000):\n",
    "    # minibatch construct\n",
    "    ix = torch.randint(0, Xtr.shape[0], (32,)) # helps with choosing a random set of numbers\n",
    "\n",
    "    # forward pass\n",
    "    emb = C[Xtr[ix]] # (32, 3, 10)\n",
    "    h = torch.tanh(emb.view(-1, 30) @ W1 + b1) # activation unit\n",
    "    logits = h @ W2 + b2\n",
    "    loss = F.cross_entropy(logits, Ytr[ix]) # this gives loss the same way the previous 3 lines do\n",
    "    # print(loss.item())\n",
    "    \n",
    "    # backward pass\n",
    "    for p in parameter:\n",
    "        p.grad = None\n",
    "    loss.backward()\n",
    "    \n",
    "    # update\n",
    "    # lr = lrs[i]\n",
    "    lr = 0.1 if i < 100000 else 0.01\n",
    "    for p in parameter:\n",
    "        p.data += -lr * p.grad\n",
    "\n",
    "    # track stats (learning rate decay)\n",
    "    stepi.append(i)\n",
    "    lossi.append(loss.log10().item())\n",
    "    \n",
    "# print(loss.item())"
   ]
  },
  {
   "cell_type": "code",
   "execution_count": 765,
   "id": "2db04ffd-d529-440e-8f8f-78e3149da83f",
   "metadata": {},
   "outputs": [
    {
     "data": {
      "image/png": "[encoded data removed]",
      "text/plain": [
       "<Figure size 640x480 with 1 Axes>"
      ]
     },
     "metadata": {},
     "output_type": "display_data"
    }
   ],
   "source": [
    "plt.plot(stepi, lossi)\n",
    "plt.show()"
   ]
  },
  {
   "cell_type": "code",
   "execution_count": 758,
   "id": "d3154510-d431-4e19-ac6d-59b3bca18d4f",
   "metadata": {},
   "outputs": [
    {
     "data": {
      "text/plain": [
       "tensor(2.1799, grad_fn=<NllLossBackward0>)"
      ]
     },
     "execution_count": 758,
     "metadata": {},
     "output_type": "execute_result"
    }
   ],
   "source": [
    "# training loss\n",
    "emb = C[Xtr] # (32, 3, 2)\n",
    "h = torch.tanh(emb.view(-1, 30) @ W1 + b1) # (32, 100)\n",
    "logits = h @ W2 + b2 # (32, 27)\n",
    "loss = F.cross_entropy(logits, Ytr)\n",
    "loss"
   ]
  },
  {
   "cell_type": "code",
   "execution_count": 759,
   "id": "474e2d36-77b9-4146-8673-1de8301b7e6a",
   "metadata": {},
   "outputs": [
    {
     "data": {
      "text/plain": [
       "tensor(2.1966, grad_fn=<NllLossBackward0>)"
      ]
     },
     "execution_count": 759,
     "metadata": {},
     "output_type": "execute_result"
    }
   ],
   "source": [
    "# dev loss\n",
    "emb = C[Xdev] # (32, 3, 2)\n",
    "h = torch.tanh(emb.view(-1, 30) @ W1 + b1) # (32, 100)\n",
    "logits = h @ W2 + b2 # (32, 27)\n",
    "loss = F.cross_entropy(logits, Ydev)\n",
    "loss"
   ]
  },
  {
   "cell_type": "markdown",
   "id": "767aac8c-94d1-4d34-a944-13943e776fdf",
   "metadata": {},
   "source": [
    "It can take quite long to run the training on all 228,000+ examples, especially if we were to say this model had several layers, so a work around of this is to make this data into minibatches. The minibatches tend to make the gradient quite unreliable in comparison to using the full set.\n",
    "\n",
    "We might have a low training loss, however, this doesn't mean that the model is good at generalization, so we have to split the model training data into a training set, testing set and validation set.\n",
    "\n",
    "When the dev loss and the training loss are similar it means that the data is not overfitting, which is a good sign for the model showing that it has a good habit of generalization.\n",
    "\n",
    "Furthermore, after several sets of training it can become quite obvious that the training set fails to find a better learning rate due to possible bottlenecks caused by the embeddings."
   ]
  },
  {
   "cell_type": "code",
   "execution_count": 760,
   "id": "a97e9392-9bf4-433c-8c2f-2389d18a52f5",
   "metadata": {},
   "outputs": [
    {
     "data": {
      "image/png": "[encoded data removed]",
      "text/plain": [
       "<Figure size 800x800 with 1 Axes>"
      ]
     },
     "metadata": {},
     "output_type": "display_data"
    }
   ],
   "source": [
    "plt.figure(figsize=(8,8))\n",
    "plt.scatter(C[:,0].data, C[:,1].data, s=200)\n",
    "for i in range(C.shape[0]):\n",
    "    plt.text(C[i,0].item(), C[i,1].item(), itos[i], ha=\"center\", va=\"center\", color='white')\n",
    "plt.grid('minor')\n",
    "plt.show()"
   ]
  },
  {
   "cell_type": "code",
   "execution_count": 761,
   "id": "1002dabd-703f-4f47-8d06-8b5ad263885e",
   "metadata": {},
   "outputs": [],
   "source": [
    "# training split, dev/validation split, test split\n",
    "# 80% 10% 10%"
   ]
  },
  {
   "cell_type": "code",
   "execution_count": 762,
   "id": "d3716f11-1e41-4009-9c0c-1808f14bf9cb",
   "metadata": {},
   "outputs": [
    {
     "data": {
      "text/plain": [
       "torch.Size([1, 5, 10])"
      ]
     },
     "execution_count": 762,
     "metadata": {},
     "output_type": "execute_result"
    }
   ],
   "source": [
    "context = [0] * block_size\n",
    "C[torch.tensor([context])].shape"
   ]
  },
  {
   "cell_type": "code",
   "execution_count": 768,
   "id": "787a4f3f-16e6-4b03-9595-3929ee41af21",
   "metadata": {},
   "outputs": [
    {
     "name": "stdout",
     "output_type": "stream",
     "text": [
      "nyiad.\n",
      "irug.\n",
      "hen.\n",
      "edeno.\n",
      "nisekshaisence.\n",
      "kand.\n",
      "osperneihahnu.\n",
      "hanklin.\n",
      "juniah.\n",
      "dynn.\n",
      "dhairia.\n",
      "ryliann.\n",
      "mizier.\n",
      "christi.\n",
      "has.\n",
      "disen.\n",
      "azzia.\n",
      "enviney.\n",
      "avin.\n",
      "miciana.\n"
     ]
    }
   ],
   "source": [
    "# sample from the model\n",
    "g = torch.Generator().manual_seed(2147482647 + 10)\n",
    "\n",
    "block_size = 3\n",
    "\n",
    "for _ in range(20):\n",
    "\n",
    "    out = []\n",
    "    context = [0] * block_size # intialize with all ...\n",
    "    while True:\n",
    "        emb = C[torch.tensor([context])] # (1, block_size, d)\n",
    "        h = torch.tanh(emb.view(1, -1) @ W1 + b1)\n",
    "        logits = h @ W2 + b2\n",
    "        probs = F.softmax(logits, dim=1)\n",
    "        ix = torch.multinomial(probs, num_samples=1, generator=g).item()\n",
    "        context = context[1:] + [ix]\n",
    "        out.append(ix)\n",
    "        if ix == 0:\n",
    "            break\n",
    "\n",
    "    print(''.join(itos[i] for i in out))"
   ]
  },
  {
   "cell_type": "code",
   "execution_count": null,
   "id": "ecad720a-9278-418e-90cf-9e653d48f5f3",
   "metadata": {},
   "outputs": [],
   "source": []
  }
 ],
 "metadata": {
  "kernelspec": {
   "display_name": "Python 3.12 (pyenv)",
   "language": "python",
   "name": "jupyter-py312"
  },
  "language_info": {
   "codemirror_mode": {
    "name": "ipython",
    "version": 3
   },
   "file_extension": ".py",
   "mimetype": "text/x-python",
   "name": "python",
   "nbconvert_exporter": "python",
   "pygments_lexer": "ipython3",
   "version": "3.13.5"
  }
 },
 "nbformat": 4,
 "nbformat_minor": 5
}
